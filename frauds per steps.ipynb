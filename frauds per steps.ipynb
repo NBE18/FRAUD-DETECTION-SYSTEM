{
 "cells": [
  {
   "cell_type": "code",
   "execution_count": null,
   "id": "eb6954fd",
   "metadata": {},
   "outputs": [],
   "source": [
    "frauds_per_step = df[df['isFraud']==1]['step'].value_counts().sort_index()\n",
    "plt.plot(frauds_per_step.index,frauds_per_step.values, label='Frauds per step')\n",
    "plt.xlabel('step (time)')\n",
    "plt.ylabel('numbers of Frauds')\n",
    "plt.title('Frauds over time')\n",
    "plt.grid(True)\n",
    "plt.show()"
   ]
  }
 ],
 "metadata": {
  "language_info": {
   "name": "python"
  }
 },
 "nbformat": 4,
 "nbformat_minor": 5
}
