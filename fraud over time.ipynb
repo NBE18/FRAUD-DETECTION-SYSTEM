df["balanceDiffOrig"]= df["oldbalanceOrg"] - df["newbalanceOrig"]
df["balanceDiffDest"]= df["newbalanceDest"] - df["oldbalanceDest"]

(df["balanceDiffOrig"] < 0).sum()

(df["balanceDiffDest"] < 0).sum()

df.head(2)

fraud_per_step = df[df["isFraud"] == 1]["step"].value_counts().sort_index()
plt.plot(fraud_per_step.index , fraud_per_step.values, label="fraud per Step")
plt.xlabel("Step (Time)")
plt.ylabel("Number of Frauds")
plt.title("Frauds Over Time")
plt.grid(True)
plt.show()

