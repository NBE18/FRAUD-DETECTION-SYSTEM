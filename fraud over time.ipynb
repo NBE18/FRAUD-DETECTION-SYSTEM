{
 "cells": [
  {
   "cell_type": "code",
   "execution_count": null,
   "id": "01feb9e1",
   "metadata": {},
   "outputs": [],
   "source": [
    "df[\"balanceDiffOrig\"]= df[\"oldbalanceOrg\"] - df[\"newbalanceOrig\"]\n",
    "df[\"balanceDiffDest\"]= df[\"newbalanceDest\"] - df[\"oldbalanceDest\"]"
   ]
  },
  {
   "cell_type": "code",
   "execution_count": null,
   "id": "e777176a",
   "metadata": {},
   "outputs": [],
   "source": [
    "(df[\"balanceDiffOrig\"] < 0).sum()\n"
   ]
  },
  {
   "cell_type": "code",
   "execution_count": null,
   "id": "fbe34819",
   "metadata": {},
   "outputs": [],
   "source": [
    "(df[\"balanceDiffDest\"] < 0).sum()"
   ]
  },
  {
   "cell_type": "code",
   "execution_count": null,
   "id": "4d3730f5",
   "metadata": {},
   "outputs": [],
   "source": [
    "df.head(2)"
   ]
  },
  {
   "cell_type": "code",
   "execution_count": null,
   "id": "3555568a",
   "metadata": {},
   "outputs": [],
   "source": [
    "\n",
    "fraud_per_step = df[df[\"isFraud\"] == 1][\"step\"].value_counts().sort_index()\n",
    "plt.plot(fraud_per_step.index , fraud_per_step.values, label=\"fraud per Step\")\n",
    "plt.xlabel(\"Step (Time)\")\n",
    "plt.ylabel(\"Number of Frauds\")\n",
    "plt.title(\"Frauds Over Time\")\n",
    "plt.grid(True)\n",
    "plt.show()\n"
   ]
  }
 ],
 "metadata": {
  "kernelspec": {
   "display_name": "Python 3",
   "language": "python",
   "name": "python3"
  },
  "language_info": {
   "name": "python",
   "version": "3.11.4"
  }
 },
 "nbformat": 4,
 "nbformat_minor": 5
}
