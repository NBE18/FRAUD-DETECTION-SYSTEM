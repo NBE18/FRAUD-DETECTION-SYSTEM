{
 "cells": [
  {
   "cell_type": "code",
   "execution_count": null,
   "id": "64e5dade",
   "metadata": {},
   "outputs": [],
   "source": [
    "df['isFraud'].value_counts()"
   ]
  },
  {
   "cell_type": "code",
   "execution_count": null,
   "id": "20ba94f7",
   "metadata": {},
   "outputs": [],
   "source": [
    "df['isFlaggedFraud'].value_counts()"
   ]
  },
  {
   "cell_type": "code",
   "execution_count": null,
   "id": "1803bf28",
   "metadata": {},
   "outputs": [],
   "source": [
    "df.isnull().sum()"
   ]
  },
  {
   "cell_type": "code",
   "execution_count": null,
   "id": "a29448fd",
   "metadata": {},
   "outputs": [],
   "source": [
    "df.isnull().sum().sum"
   ]
  },
  {
   "cell_type": "code",
   "execution_count": null,
   "id": "b140e318",
   "metadata": {},
   "outputs": [],
   "source": [
    "df.shape[0]"
   ]
  }
 ],
 "metadata": {
  "language_info": {
   "name": "python"
  }
 },
 "nbformat": 4,
 "nbformat_minor": 5
}
