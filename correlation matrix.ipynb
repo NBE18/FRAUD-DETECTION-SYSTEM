{
 "cells": [
  {
   "cell_type": "code",
   "execution_count": null,
   "id": "64f311ff",
   "metadata": {},
   "outputs": [],
   "source": [
    "sns.heatmap(corr,annot=True,cmap='coolwarm',fmt='.2f')\n",
    "plt.title('Correlation Matrix')\n",
    "plt.show()"
   ]
  }
 ],
 "metadata": {
  "language_info": {
   "name": "python"
  }
 },
 "nbformat": 4,
 "nbformat_minor": 5
}
