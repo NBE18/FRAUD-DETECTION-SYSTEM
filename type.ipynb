{
 "cells": [
  {
   "cell_type": "code",
   "execution_count": null,
   "id": "da45627a",
   "metadata": {},
   "outputs": [],
   "source": [
    "zero_after_transfer=df[\n",
    "    (df['oldbalanceOrg']>0)&\n",
    "    (df['newbalanceOrig']==0)&\n",
    "    (df['type'].isin(['TRANSFER','CASH_OUT']))\n",
    "]"
   ]
  },
  {
   "cell_type": "code",
   "execution_count": null,
   "id": "f0a2d4da",
   "metadata": {},
   "outputs": [],
   "source": [
    "len(zero_after_transfer)"
   ]
  },
  {
   "cell_type": "code",
   "execution_count": null,
   "id": "e65e6ef8",
   "metadata": {},
   "outputs": [],
   "source": [
    "zero_after_transfer.head()"
   ]
  }
 ],
 "metadata": {
  "language_info": {
   "name": "python"
  }
 },
 "nbformat": 4,
 "nbformat_minor": 5
}
