{
 "cells": [
  {
   "cell_type": "code",
   "execution_count": null,
   "id": "a48a445f",
   "metadata": {},
   "outputs": [],
   "source": [
    "sns.countplot(data = fraud_type, x='type',hue='isFraud')\n",
    "plt.title ('Fraud Distribution in Transfer & Cash out')\n",
    "plt.show()"
   ]
  }
 ],
 "metadata": {
  "language_info": {
   "name": "python"
  }
 },
 "nbformat": 4,
 "nbformat_minor": 5
}
