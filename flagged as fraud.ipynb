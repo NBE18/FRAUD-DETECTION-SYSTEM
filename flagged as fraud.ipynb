{
 "cells": [
  {
   "cell_type": "code",
   "execution_count": null,
   "id": "5beea912",
   "metadata": {},
   "outputs": [],
   "source": [
    "df_model = df.drop (['nameOrig','nameDest','isFlaggedFraud'], axis=1)\n"
   ]
  }
 ],
 "metadata": {
  "language_info": {
   "name": "python"
  }
 },
 "nbformat": 4,
 "nbformat_minor": 5
}
