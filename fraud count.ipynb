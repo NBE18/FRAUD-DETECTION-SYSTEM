{
 "cells": [
  {
   "cell_type": "code",
   "execution_count": null,
   "id": "f20b3b3e",
   "metadata": {},
   "outputs": [],
   "source": [
    "top_senders = df['nameOrig'].value_counts().head(10)"
   ]
  },
  {
   "cell_type": "code",
   "execution_count": null,
   "id": "4af30f3f",
   "metadata": {},
   "outputs": [],
   "source": [
    "top_receivers = df['nameDest'].value_counts().head(10)"
   ]
  },
  {
   "cell_type": "code",
   "execution_count": null,
   "id": "fb861dbd",
   "metadata": {},
   "outputs": [],
   "source": [
    "fraud_users = df[df['isFraud']==1]['nameOrig'].value_counts().head(10)"
   ]
  },
  {
   "cell_type": "code",
   "execution_count": null,
   "id": "2f5e5933",
   "metadata": {},
   "outputs": [],
   "source": [
    "fraud_users "
   ]
  }
 ],
 "metadata": {
  "language_info": {
   "name": "python"
  }
 },
 "nbformat": 4,
 "nbformat_minor": 5
}
