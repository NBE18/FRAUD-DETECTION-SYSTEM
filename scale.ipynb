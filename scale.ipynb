sns.histplot(np.log1p(df["amount"]), bins=100, kde = True, color="green")
plt.title("Transaction Amount Distribution (log scale)")
plt.xlabel("Log(Amount + 1)")
plt.show()

sns.boxplot(data= df[df["amount"] < 500000], x = "isFraud", y="amount")
plt.title("Amount vs isFraud (Filtered under 50k)")
plt.show